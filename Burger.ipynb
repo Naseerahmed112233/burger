{
  "nbformat": 4,
  "nbformat_minor": 0,
  "metadata": {
    "colab": {
      "provenance": [],
      "authorship_tag": "ABX9TyPLWtvOZNi/T9SJOdgAJspj",
      "include_colab_link": true
    },
    "kernelspec": {
      "name": "python3",
      "display_name": "Python 3"
    },
    "language_info": {
      "name": "python"
    }
  },
  "cells": [
    {
      "cell_type": "markdown",
      "metadata": {
        "id": "view-in-github",
        "colab_type": "text"
      },
      "source": [
        "<a href=\"https://colab.research.google.com/github/Naseerahmed112233/burger/blob/main/Burger.ipynb\" target=\"_parent\"><img src=\"https://colab.research.google.com/assets/colab-badge.svg\" alt=\"Open In Colab\"/></a>"
      ]
    },
    {
      "cell_type": "code",
      "execution_count": 1,
      "metadata": {
        "colab": {
          "base_uri": "https://localhost:8080/"
        },
        "id": "t9RpJRtThNaX",
        "outputId": "727de6df-7626-4100-84cf-4c874cefbf39"
      },
      "outputs": [
        {
          "output_type": "stream",
          "name": "stdout",
          "text": [
            "\n",
            "*************** MENU ***************\n",
            "Sr.  Name\t\tPrice\n",
            "1.   aloo tikki\t\t5$\n",
            "2.   maharaja\t\t10$\n",
            "3.   mac special\t\t15$\n",
            "\n",
            "\n",
            "Enter the Sr. number of the burger you want to order: 4\n",
            "Invalid choice. Try again.\n",
            "Enter the Sr. number of the burger you want to order: 1\n",
            "How many quantity? 2\n",
            "Do you want to order another item? (yes/no): no\n",
            "Are you a student? (yes/no): yes\n",
            "Do you want delivery? (yes/no): yes\n",
            "Do you want to give tip? (yes/no): no\n",
            "\n",
            "****************** FINAL BILL ***********************\n",
            "Sr.  Name\t\tPrice\tQty\tTotal Price\n",
            "1.  aloo tikki\t5$\t2\t10$\n",
            "----------------------------------------------------\n",
            "\t\t\t\t\t10$\n",
            "Student discount 20%\t\t -2.0$\n",
            "Delivery charge 5%\t\t +0.5$\n",
            "Tip\t\t\t\t\t +0$\n",
            "----------------------------------------------------\n",
            "Total bill\t\t\t\t 8.5$\n",
            "Thank you and come again >>>>>>>>>>>>>>>>>>>>>>>>>>\n",
            "\n"
          ]
        }
      ],
      "source": [
        "# Burger Billing System - Modular Version\n",
        "\n",
        "menu = {\n",
        "    1: {\"name\": \"aloo tikki\", \"price\": 5},\n",
        "    2: {\"name\": \"maharaja\", \"price\": 10},\n",
        "    3: {\"name\": \"mac special\", \"price\": 15}\n",
        "}\n",
        "\n",
        "def display_menu():\n",
        "    print(\"\\n*************** MENU ***************\")\n",
        "    print(\"Sr.  Name\\t\\tPrice\")\n",
        "    for sr, item in menu.items():\n",
        "        print(f\"{sr}.   {item['name']}\\t\\t{item['price']}$\")\n",
        "    print(\"\\n\")\n",
        "\n",
        "def take_single_order():\n",
        "    while True:\n",
        "        try:\n",
        "            choice = int(input(\"Enter the Sr. number of the burger you want to order: \"))\n",
        "            if choice in menu:\n",
        "                quantity = int(input(\"How many quantity? \"))\n",
        "                item = menu[choice]\n",
        "                return {\n",
        "                    \"sr\": choice,\n",
        "                    \"name\": item[\"name\"],\n",
        "                    \"price\": item[\"price\"],\n",
        "                    \"quantity\": quantity,\n",
        "                    \"total\": item[\"price\"] * quantity\n",
        "                }\n",
        "            else:\n",
        "                print(\"Invalid choice. Try again.\")\n",
        "        except ValueError:\n",
        "            print(\"Invalid input. Try again.\")\n",
        "\n",
        "def take_multiple_orders():\n",
        "    orders = []\n",
        "    while True:\n",
        "        order = take_single_order()\n",
        "        orders.append(order)\n",
        "        more = input(\"Do you want to order another item? (yes/no): \").strip().lower()\n",
        "        if more != \"yes\":\n",
        "            break\n",
        "    return orders\n",
        "\n",
        "def get_student_discount(subtotal):\n",
        "    is_student = input(\"Are you a student? (yes/no): \").strip().lower() == 'yes'\n",
        "    return subtotal * 0.20 if is_student else 0\n",
        "\n",
        "def get_delivery_charge(subtotal):\n",
        "    delivery = input(\"Do you want delivery? (yes/no): \").strip().lower() == 'yes'\n",
        "    return subtotal * 0.05 if delivery else 0\n",
        "\n",
        "def get_tip():\n",
        "    tip = 0\n",
        "    tip_choice = input(\"Do you want to give tip? (yes/no): \").strip().lower()\n",
        "    if tip_choice == 'yes':\n",
        "        while True:\n",
        "            try:\n",
        "                tip_input = int(input(\"How much tip? (2/5/10): \"))\n",
        "                if tip_input in [2, 5, 10]:\n",
        "                    tip = tip_input\n",
        "                    break\n",
        "                else:\n",
        "                    print(\"Please choose a valid tip amount.\")\n",
        "            except ValueError:\n",
        "                print(\"Enter a numeric value.\")\n",
        "    return tip\n",
        "\n",
        "def calculate_total(orders):\n",
        "    return sum(item[\"total\"] for item in orders)\n",
        "\n",
        "def print_final_bill(orders, subtotal, discount, delivery, tip):\n",
        "    total = subtotal - discount + delivery + tip\n",
        "\n",
        "    print(\"\\n****************** FINAL BILL ***********************\")\n",
        "    print(\"Sr.  Name\\t\\tPrice\\tQty\\tTotal Price\")\n",
        "    for item in orders:\n",
        "        print(f\"{item['sr']}.  {item['name']}\\t{item['price']}$\\t{item['quantity']}\\t{item['total']}$\")\n",
        "\n",
        "    print(\"----------------------------------------------------\")\n",
        "    print(f\"\\t\\t\\t\\t\\t{subtotal}$\")\n",
        "    print(f\"Student discount 20%\\t\\t -{discount}$\")\n",
        "    print(f\"Delivery charge 5%\\t\\t +{delivery}$\")\n",
        "    print(f\"Tip\\t\\t\\t\\t\\t +{tip}$\")\n",
        "    print(\"----------------------------------------------------\")\n",
        "    print(f\"Total bill\\t\\t\\t\\t {total}$\")\n",
        "    print(\"Thank you and come again >>>>>>>>>>>>>>>>>>>>>>>>>>\\n\")\n",
        "\n",
        "def main():\n",
        "    display_menu()\n",
        "    orders = take_multiple_orders()\n",
        "    subtotal = calculate_total(orders)\n",
        "    discount = get_student_discount(subtotal)\n",
        "    delivery = get_delivery_charge(subtotal)\n",
        "    tip = get_tip()\n",
        "    print_final_bill(orders, subtotal, discount, delivery, tip)\n",
        "\n",
        "if __name__ == \"__main__\":\n",
        "    main()\n"
      ]
    },
    {
      "cell_type": "code",
      "source": [],
      "metadata": {
        "id": "CVt5TlZFizFW"
      },
      "execution_count": null,
      "outputs": []
    }
  ]
}